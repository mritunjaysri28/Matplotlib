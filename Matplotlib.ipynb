{
 "cells": [
  {
   "cell_type": "markdown",
   "id": "29d6b6ce",
   "metadata": {},
   "source": [
    "# Matplotlib"
   ]
  },
  {
   "cell_type": "markdown",
   "id": "3fde9163",
   "metadata": {},
   "source": [
    "#### Data Visualiztion\n",
    "\n",
    "<ul>\n",
    "    <li>Data visualization is about viewing or visualizing data in the form of graphical plots, chast, figures, and animations.</li>\n",
    "    <li>It is an effective way of communicating information to others.</li>\n",
    "    <li>Libraries: \n",
    "\n",
    "* [Altair](https://github.com/altair-viz/altair) - Declarative statistical visualization library for Python.\n",
    "* [Bokeh](https://github.com/bokeh/bokeh) - Interactive Web Plotting for Python.\n",
    "* [bqplot](https://github.com/bloomberg/bqplot) - Interactive Plotting Library for the Jupyter Notebook.\n",
    "* [Cartopy](https://github.com/SciTools/cartopy) - A cartographic python library with matplotlib support.\n",
    "* [Dash](https://plot.ly/products/dash/) - Built on top of Flask, React and Plotly aimed at analytical web applications.\n",
    "* [diagrams](https://github.com/mingrammer/diagrams) - Diagram as Code.\n",
    "* [Matplotlib](http://matplotlib.org/) - A Python 2D plotting library.\n",
    "* [plotnine](https://github.com/has2k1/plotnine) - A grammar of graphics for Python based on ggplot2.\n",
    "* [Pygal](http://www.pygal.org/en/latest/) - A Python SVG Charts Creator.\n",
    "* [PyGraphviz](https://pypi.org/project/pygraphviz/) - Python interface to [Graphviz](http://www.graphviz.org/).\n",
    "* [PyQtGraph](http://www.pyqtgraph.org/) - Interactive and realtime 2D/3D/Image plotting and science/engineering widgets.\n",
    "* [Seaborn](https://github.com/mwaskom/seaborn) - Statistical data visualization using Matplotlib.\n",
    "* [VisPy](https://github.com/vispy/vispy) - High-performance scientific visualization based on OpenGL.\n",
    "</ul>"
   ]
  },
  {
   "cell_type": "markdown",
   "id": "f00d3def",
   "metadata": {},
   "source": [
    "### Matplotlib\n",
    "Matplotlib is a plotting library for the Python programming language and its numerical mathematics extension NumPy. It provides an object-oriented API for embedding plots into applications using general-purpose GUI toolkits like Tkinter, wxPython, Qt, or GTK+.\n",
    "\n",
    "<ul>\n",
    "    <li>Orgainzed in hierarchy</li>\n",
    "    <li>top-level <b>matplotlib.pypplot</b> module is present</li>\n",
    "    <li>pyplot is used for few activity such as figure creation, </li>\n",
    "    <li>Through the created figure, one or more axes/subplot object are created</li>\n",
    "    <li>Axes object can further use for doing many plotting actions.</li>\n",
    "</ul>"
   ]
  },
  {
   "cell_type": "code",
   "execution_count": 1,
   "id": "4cbfc477",
   "metadata": {},
   "outputs": [],
   "source": [
    "#import library\n",
    "import numpy as np\n",
    "import matplotlib\n",
    "import matplotlib.pyplot as plt\n",
    "%matplotlib inline"
   ]
  },
  {
   "cell_type": "code",
   "execution_count": 2,
   "id": "76846d29",
   "metadata": {},
   "outputs": [
    {
     "name": "stdout",
     "output_type": "stream",
     "text": [
      "Requirement already satisfied: matplotlib in c:\\users\\mritu\\anaconda3\\lib\\site-packages (3.8.0)\n",
      "Requirement already satisfied: contourpy>=1.0.1 in c:\\users\\mritu\\anaconda3\\lib\\site-packages (from matplotlib) (1.0.5)\n",
      "Requirement already satisfied: cycler>=0.10 in c:\\users\\mritu\\anaconda3\\lib\\site-packages (from matplotlib) (0.11.0)\n",
      "Requirement already satisfied: fonttools>=4.22.0 in c:\\users\\mritu\\anaconda3\\lib\\site-packages (from matplotlib) (4.25.0)\n",
      "Requirement already satisfied: kiwisolver>=1.0.1 in c:\\users\\mritu\\anaconda3\\lib\\site-packages (from matplotlib) (1.4.4)\n",
      "Requirement already satisfied: numpy<2,>=1.21 in c:\\users\\mritu\\anaconda3\\lib\\site-packages (from matplotlib) (1.24.3)\n",
      "Requirement already satisfied: packaging>=20.0 in c:\\users\\mritu\\anaconda3\\lib\\site-packages (from matplotlib) (23.0)\n",
      "Requirement already satisfied: pillow>=6.2.0 in c:\\users\\mritu\\anaconda3\\lib\\site-packages (from matplotlib) (9.4.0)\n",
      "Requirement already satisfied: pyparsing>=2.3.1 in c:\\users\\mritu\\anaconda3\\lib\\site-packages (from matplotlib) (3.0.9)\n",
      "Requirement already satisfied: python-dateutil>=2.7 in c:\\users\\mritu\\anaconda3\\lib\\site-packages (from matplotlib) (2.8.2)\n",
      "Requirement already satisfied: six>=1.5 in c:\\users\\mritu\\anaconda3\\lib\\site-packages (from python-dateutil>=2.7->matplotlib) (1.16.0)\n"
     ]
    }
   ],
   "source": [
    "#install matplotlib\n",
    "!pip install matplotlib"
   ]
  },
  {
   "cell_type": "code",
   "execution_count": 3,
   "id": "448eab16",
   "metadata": {},
   "outputs": [
    {
     "data": {
      "text/plain": [
       "'3.8.0'"
      ]
     },
     "execution_count": 3,
     "metadata": {},
     "output_type": "execute_result"
    }
   ],
   "source": [
    "#get matplotlib version\n",
    "matplotlib.__version__"
   ]
  },
  {
   "cell_type": "code",
   "execution_count": 4,
   "id": "73b4f98c",
   "metadata": {},
   "outputs": [
    {
     "name": "stdout",
     "output_type": "stream",
     "text": [
      "Requirement already satisfied: matplotlib in c:\\users\\mritu\\anaconda3\\lib\\site-packages (3.8.0)\n",
      "Requirement already satisfied: contourpy>=1.0.1 in c:\\users\\mritu\\anaconda3\\lib\\site-packages (from matplotlib) (1.0.5)\n",
      "Requirement already satisfied: cycler>=0.10 in c:\\users\\mritu\\anaconda3\\lib\\site-packages (from matplotlib) (0.11.0)\n",
      "Requirement already satisfied: fonttools>=4.22.0 in c:\\users\\mritu\\anaconda3\\lib\\site-packages (from matplotlib) (4.25.0)\n",
      "Requirement already satisfied: kiwisolver>=1.0.1 in c:\\users\\mritu\\anaconda3\\lib\\site-packages (from matplotlib) (1.4.4)\n",
      "Requirement already satisfied: numpy<2,>=1.21 in c:\\users\\mritu\\anaconda3\\lib\\site-packages (from matplotlib) (1.24.3)\n",
      "Requirement already satisfied: packaging>=20.0 in c:\\users\\mritu\\anaconda3\\lib\\site-packages (from matplotlib) (23.0)\n",
      "Requirement already satisfied: pillow>=6.2.0 in c:\\users\\mritu\\anaconda3\\lib\\site-packages (from matplotlib) (9.4.0)\n",
      "Requirement already satisfied: pyparsing>=2.3.1 in c:\\users\\mritu\\anaconda3\\lib\\site-packages (from matplotlib) (3.0.9)\n",
      "Requirement already satisfied: python-dateutil>=2.7 in c:\\users\\mritu\\anaconda3\\lib\\site-packages (from matplotlib) (2.8.2)\n",
      "Requirement already satisfied: six>=1.5 in c:\\users\\mritu\\anaconda3\\lib\\site-packages (from python-dateutil>=2.7->matplotlib) (1.16.0)\n"
     ]
    }
   ],
   "source": [
    "#upgrade matplotlib\n",
    "!pip install --upgrade matplotlib"
   ]
  },
  {
   "cell_type": "code",
   "execution_count": 5,
   "id": "410c299c",
   "metadata": {},
   "outputs": [
    {
     "data": {
      "text/plain": [
       "'3.8.0'"
      ]
     },
     "execution_count": 5,
     "metadata": {},
     "output_type": "execute_result"
    }
   ],
   "source": [
    "#get matplotlib version after upgrade\n",
    "matplotlib.__version__"
   ]
  },
  {
   "cell_type": "markdown",
   "id": "f5bbdbda",
   "metadata": {},
   "source": [
    "### Parts of Matplotlib \n",
    "\n",
    "<ol>\n",
    "    <li>Figure: Whole area chosen for plotting</li>\n",
    "    <li>Axes: Area where data is plotted</li>\n",
    "    <li>Axis: Number-line link objects, which define graph limits (x, y axis)</li>\n",
    "    <li>Artist: Every element on the figure is an artist (Major and Minor tick table)</li>\n",
    "</ol>"
   ]
  },
  {
   "cell_type": "markdown",
   "id": "a4713601",
   "metadata": {},
   "source": [
    "### Figure\n",
    "\n",
    "<ul>\n",
    "    <li>It refer to the whole area or page on which everything is drawn.</li>\n",
    "    <li>It include Axes, Axis and other Artist element</li>\n",
    "    <li>Figure is created using <b>figure</b> function of pyplot module</li>\n",
    "</ul>"
   ]
  },
  {
   "cell_type": "code",
   "execution_count": 6,
   "id": "c0339f50",
   "metadata": {},
   "outputs": [
    {
     "data": {
      "text/plain": [
       "<Figure size 640x480 with 0 Axes>"
      ]
     },
     "metadata": {},
     "output_type": "display_data"
    }
   ],
   "source": [
    "#create figure using plt.figure() return figure object\n",
    "fig = plt.figure()\n",
    "\n",
    "# Viewing figure to display figure need to tell explicitly pyplot to display it\n",
    "# below command will return the object to display figure it required at least one axes.\n",
    "plt.show()"
   ]
  },
  {
   "cell_type": "markdown",
   "id": "dbdb34e3",
   "metadata": {},
   "source": [
    "### Axes\n",
    "\n",
    "<ul>\n",
    "    <li>Axes is the region of the figure, available for plotting data</li>\n",
    "    <li>Axes object is associated with only one Figure</li>\n",
    "    <li>Figure can contain one or more number of Axes element</li>\n",
    "    <li>Axes contain two Axis object in case of 2D plots and three object in case of 3D plots</li>\n",
    "</ul>"
   ]
  },
  {
   "cell_type": "code",
   "execution_count": null,
   "id": "8ef16b5f",
   "metadata": {},
   "outputs": [],
   "source": [
    "#Axes can be added by using methods add_subplot(nrows, ncols, index) return axes object\n",
    "fig = plt.figure()\n",
    "ax = fig.add_subplot()\n",
    "plt.show()"
   ]
  },
  {
   "cell_type": "code",
   "execution_count": null,
   "id": "548a7ad5",
   "metadata": {},
   "outputs": [],
   "source": [
    "#Adjusting Figure Size => plt.figure(figsize=(x, y))\n",
    "fig = plt.figure(figsize=(3, 3))\n",
    "ax = fig.add_subplot(1, 1, 1)\n",
    "plt.show()"
   ]
  },
  {
   "cell_type": "code",
   "execution_count": null,
   "id": "858077c2",
   "metadata": {},
   "outputs": [],
   "source": [
    "#setting title and axis label as parameter\n",
    "fig = plt.figure(figsize=(10,3))\n",
    "ax = fig.add_subplot(1,1,1)\n",
    "ax.set(title=\"Figure\"\n",
    "      , xlabel='x-asix'\n",
    "      , ylabel='y-axis'\n",
    "      , xlim=(0,5)\n",
    "      , ylim=(0,10)\n",
    "      , xticks=[0.1, 0.9, 2, 3, 4, 5]\n",
    "      , xticklabels=['pointone', 'pointnine', 'two', 'three', 'four', 'five'])\n",
    "plt.show()"
   ]
  },
  {
   "cell_type": "code",
   "execution_count": null,
   "id": "b0f903cf",
   "metadata": {},
   "outputs": [],
   "source": [
    "#setting title and axis label as method\n",
    "fig = plt.figure(figsize=(3,3))\n",
    "ax = fig.add_subplot(111)\n",
    "ax.set_title(\"Figure\")\n",
    "ax.set_xlabel(\"X-Axis\")\n",
    "ax.set_ylabel('Y-Axis')\n",
    "ax.set_xlim([0,5])\n",
    "ax.set_ylim([0,10])\n",
    "plt.show()"
   ]
  },
  {
   "cell_type": "code",
   "execution_count": null,
   "id": "6523c16c",
   "metadata": {},
   "outputs": [],
   "source": [
    "#setting title and axis label eplicitly\n",
    "fig = plt.figure(figsize=(3,3))\n",
    "ax = fig.add_subplot(1,1,1)\n",
    "\n",
    "plt.title('Figure')\n",
    "plt.xlabel('X-Axis')\n",
    "plt.ylabel('Y-Axis')\n",
    "plt.xlim(0,5)\n",
    "plt.ylim(0,10)\n",
    "plt.show()"
   ]
  },
  {
   "cell_type": "code",
   "execution_count": null,
   "id": "cbd61951",
   "metadata": {},
   "outputs": [],
   "source": [
    "#plot data points in graph => plt.plot(x, y) will use\n",
    "x = list(range(0,5))\n",
    "y = list(range(0,10, 2))\n",
    "\n",
    "fig = plt.figure(figsize=(3,3))\n",
    "ax = fig.add_subplot(1,1,1)\n",
    "ax.set(title=\"Figure\"\n",
    "      , xlabel='x-asix'\n",
    "      , ylabel='y-axis'\n",
    "      , xlim=(0,5)\n",
    "      , ylim=(0,10))\n",
    "plt.plot(x,y)\n",
    "plt.show()"
   ]
  },
  {
   "cell_type": "code",
   "execution_count": null,
   "id": "2779d09b",
   "metadata": {},
   "outputs": [],
   "source": [
    "#adding legend in graph => plt.legend(x, y, label='legend'); plt.legend() will use\n",
    "x = list(range(0,5))\n",
    "y = list(range(0,10, 2))\n",
    "\n",
    "fig = plt.figure(figsize=(3,3))\n",
    "ax = fig.add_subplot(1,1,1)\n",
    "ax.set(title=\"Figure\"\n",
    "      , xlabel='x-asix'\n",
    "      , ylabel='y-axis'\n",
    "      , xlim=(0,5)\n",
    "      , ylim=(0,10))\n",
    "plt.plot(x,y, label='legend')\n",
    "plt.legend()\n",
    "plt.show()"
   ]
  },
  {
   "cell_type": "markdown",
   "id": "431ca18f",
   "metadata": {},
   "source": [
    "### Types Of Plot\n",
    "\n",
    "1. Line plot\n",
    "2. Scatter plot\n",
    "3. Bar plot\n",
    "4. Pie plot\n",
    "5. Histogram\n",
    "6. Box plot"
   ]
  },
  {
   "cell_type": "markdown",
   "id": "0a176c0d",
   "metadata": {},
   "source": [
    "### Line Plot\n",
    "\n",
    "* Line Plot is used to visualize a trend in data.\n",
    "* Line Plot is also used to compare two variables.\n",
    "* Line Plots are simple and effective in communicating.\n",
    "* plot function is used for drawing Line plots.\n",
    "* Syntax: plt.plot(x,y)"
   ]
  },
  {
   "cell_type": "code",
   "execution_count": null,
   "id": "bf465e13",
   "metadata": {},
   "outputs": [],
   "source": [
    "x = [1, 5, 8, 12, 15, 19, 22, 26, 29]\n",
    "y = [29.3, 30.1, 30.4, 31.5, 32.3, 32.6, 31.8, 32.4, 32.7]\n",
    "\n",
    "fig = plt.figure(figsize=(8,6))\n",
    "ax = fig.add_subplot(1,1,1)\n",
    "ax.set(title='Line Plot Graph'\n",
    "       , xlabel='X-Axis'\n",
    "       , ylabel='Y-Axis'\n",
    "       , xlim=(0, 30)\n",
    "       , ylim=(25, 35))\n",
    "ax.plot(x, y)\n",
    "plt.show()"
   ]
  },
  {
   "cell_type": "markdown",
   "id": "79884193",
   "metadata": {},
   "source": [
    "### Parameter for Plot \n",
    "\n",
    "* color - Sets the color of the line.\n",
    "* linestyle - Sets the line style, e.g., solid, dashed, etc.\n",
    "* linewidth - Sets the thickness of a line.\n",
    "* marker - Chooses a marker for data points, e.g., circle, triangle, etc.\n",
    "* markersize - Sets the size of the chosen marker.\n",
    "* label - Names the line, which will come in legend."
   ]
  },
  {
   "cell_type": "code",
   "execution_count": null,
   "id": "fcaecb5e",
   "metadata": {},
   "outputs": [],
   "source": [
    "fig = plt.figure(figsize=(6,3))\n",
    "ax = fig.add_subplot(1,1,1)\n",
    "ax.set(title='Line Plot Graph'\n",
    "       , xlabel='X-Axis'\n",
    "       , ylabel='Y-Axis'\n",
    "       , xlim=(0, 30)\n",
    "       , ylim=(25, 35))\n",
    "ax.plot(x\n",
    "        , y\n",
    "        , color='blue'\n",
    "        , linestyle='dotted'\n",
    "        , linewidth=1\n",
    "        , marker='*'\n",
    "        , markersize=10\n",
    "        , label='label')\n",
    "plt.legend()\n",
    "plt.show()"
   ]
  },
  {
   "cell_type": "markdown",
   "id": "79d99deb",
   "metadata": {},
   "source": [
    "### Multiple line with single plot function"
   ]
  },
  {
   "cell_type": "code",
   "execution_count": null,
   "id": "e30de308",
   "metadata": {},
   "outputs": [],
   "source": [
    "x=[1,4,6,8,2]\n",
    "y=[10,10,1,5,0]\n",
    "\n",
    "fig = plt.figure(figsize=(8,4))\n",
    "ax = fig.add_subplot()\n",
    "ax.plot(x, y, 'g<', x,y, 'r--')\n"
   ]
  },
  {
   "cell_type": "markdown",
   "id": "96901b3b",
   "metadata": {},
   "source": [
    "### Scatter Graph\n",
    "\n",
    "* It similar to line graph\n",
    "* Used to show how one variable is related to another\n",
    "* It consist of data point, if it in linear then it higly corelated\n",
    "* It only mark the data point.\n",
    "* Syntax: plt.scatter(x,y)"
   ]
  },
  {
   "cell_type": "markdown",
   "id": "fc74a964",
   "metadata": {},
   "source": [
    "### Parameter of Scatter Graph\n",
    "\n",
    "* c: Sets color of markers.\n",
    "* s: Sets size of markers.\n",
    "* marker: Selects a marker. e.g: circle, triangle, etc\n",
    "* edgecolor: Sets the color of lines on edges of markers."
   ]
  },
  {
   "cell_type": "code",
   "execution_count": null,
   "id": "367ecba1",
   "metadata": {},
   "outputs": [],
   "source": [
    "x=[1,4,6,8,2]\n",
    "y=[10,10,1,5,0]\n",
    "\n",
    "fig = plt.figure(figsize=(8,4))\n",
    "ax = fig.add_subplot()\n",
    "ax.scatter(x\n",
    "           , y\n",
    "           , c='red'\n",
    "           , s=500\n",
    "           , marker='*'\n",
    "           , edgecolor='blue'\n",
    "           , label='scatter')\n",
    "ax.set_title('Scatter')\n",
    "ax.set_xlabel('X-Axis')\n",
    "ax.set_ylabel('Y-Axis')\n",
    "plt.legend()"
   ]
  },
  {
   "cell_type": "markdown",
   "id": "a709c26c",
   "metadata": {},
   "source": [
    "### Bar Chart\n",
    "\n",
    "* It mostly used to compare categories\n",
    "* bar is used for vertical bar plots\n",
    "* barh is used for horizontal bar plots\n",
    "* Syntax: bar(x, height) or bar(y,width)"
   ]
  },
  {
   "cell_type": "markdown",
   "id": "6997ba0b",
   "metadata": {},
   "source": [
    "### Parameter of Bar Graph\n",
    "\n",
    "* color: Sets the color of bars.\n",
    "* edgecolor: Sets the color of the border line of bars.\n",
    "* label: Sets label to a bar, appearing in legend.\n",
    "* color: color of bar\n",
    "* align: Aligns the bars w.r.t x-coordinates\n",
    "\n",
    "##### bar(x,width)\n",
    "* width: Sets the width of bars\n",
    "\n",
    "#### barh(y,height)\n",
    "* height: Sets the height of bars"
   ]
  },
  {
   "cell_type": "code",
   "execution_count": null,
   "id": "4adeb973",
   "metadata": {},
   "outputs": [],
   "source": [
    "#vertical bar graph\n",
    "x = [1, 2, 3]\n",
    "y = [10,20,30]\n",
    "\n",
    "fig = plt.figure(figsize=(8,4))\n",
    "ax = fig.add_subplot()\n",
    "\n",
    "ax.set(title='Bar Graph'\n",
    "       , xlabel='X-Axis'\n",
    "       , ylabel='Y-Axis'\n",
    "       , xticks=x\n",
    "       , label='label'\n",
    "       , xticklabels=['first', 'second', 'third'])\n",
    "ax.bar(x\n",
    "       , y\n",
    "       , color='green'\n",
    "       , edgecolor='red'\n",
    "       , width=0.5\n",
    "       , align='edge'\n",
    "       , label='label'\n",
    "       , linewidth=5)\n",
    "\n",
    "plt.legend()\n",
    "plt.show()"
   ]
  },
  {
   "cell_type": "code",
   "execution_count": null,
   "id": "cfb71a8c",
   "metadata": {},
   "outputs": [],
   "source": [
    "#horizontal bar graph\n",
    "x = [1, 2, 3]\n",
    "y = [10,20,30]\n",
    "\n",
    "fig = plt.figure(figsize=(8,4))\n",
    "ax = fig.add_subplot()\n",
    "\n",
    "ax.set(title='Bar Graph'\n",
    "       , xlabel='X-Axis'\n",
    "       , ylabel='Y-Axis'\n",
    "       , xticks=x\n",
    "       , label='label'\n",
    "       , xticklabels=['first', 'second', 'third'])\n",
    "plt.barh(x\n",
    "       , y\n",
    "       , color='green'\n",
    "       , edgecolor='red'\n",
    "       , height=0.5\n",
    "       , align='edge'\n",
    "       , label='label')\n",
    "\n",
    "plt.legend()\n",
    "plt.show()"
   ]
  },
  {
   "cell_type": "markdown",
   "id": "96cc1109",
   "metadata": {},
   "source": [
    "### Error Bar\n",
    "\n",
    "* It is used to plot y versus x as lines and/or markers with attached errorbars.\n",
    "\n",
    "### Parameter of Error Bar\n",
    "\n",
    "* ecolor: it is the color of the errorbar lines.\n",
    "* elinewidth: it is the linewidth of the errorbar lines.\n",
    "* capsize: it is the length of the error bar caps in points.\n",
    "* barsabove: It contains boolean value True for plotting errorsbars above the plot symbols. Its default value is False.\n",
    "* Syntax: errorbar()"
   ]
  },
  {
   "cell_type": "code",
   "execution_count": null,
   "id": "d92ba5a3",
   "metadata": {},
   "outputs": [],
   "source": [
    "a = [1, 3, 5, 7]\n",
    "b = [11, 2, 4, 19]\n",
    "c = [1, 1, 1, 1]\n",
    "d = [4, 3, 2, 1]\n",
    "\n",
    "fig=plt.figure(figsize=(4,4))\n",
    "ax=fig.add_subplot()\n",
    "plt.bar(a, b) \n",
    "plt.errorbar(a, b, xerr=c, yerr=d, fmt=\"^\", color=\"r\")"
   ]
  },
  {
   "cell_type": "markdown",
   "id": "96fce55f",
   "metadata": {},
   "source": [
    "### Pie Plot\n",
    "\n",
    "* It is effective in showing the proportion of categories.\n",
    "* It is best suited for comparing fewer categories.\n",
    "* It is used to highlight proportion of one or a group of categories.\n",
    "* Syntax: pie(x), x: size of portions, passed as fraction or number"
   ]
  },
  {
   "cell_type": "markdown",
   "id": "3b561126",
   "metadata": {},
   "source": [
    "### Parameter of Pie\n",
    "\n",
    "* colors: Sets the colors of portions.\n",
    "* labels: Sets the labels of portions.\n",
    "* startangle: Sets the start angle at which portion drawing starts.\n",
    "* autopct: Sets the percentage display format of an area, covering portions."
   ]
  },
  {
   "cell_type": "code",
   "execution_count": null,
   "id": "bd7647fa",
   "metadata": {},
   "outputs": [],
   "source": [
    "x=[1,2,3,4,5]\n",
    "\n",
    "fig=plt.figure(figsize=(4,4))\n",
    "ax=fig.add_subplot()\n",
    "ax.set(title='Pie')\n",
    "\n",
    "plt.pie(x\n",
    "       , colors=['brown', 'red', 'green', 'yellow', 'blue']\n",
    "       , labels=['first', 'second', 'third', 'fourth', 'fifth']\n",
    "       , startangle=0\n",
    "       , autopct='%1.1f%%')"
   ]
  },
  {
   "cell_type": "markdown",
   "id": "fb8e9680",
   "metadata": {},
   "source": [
    "### Histogram Chart\n",
    "\n",
    "* It used to visualize the spread of data of a distribution\n",
    "* Syntax: hist(x), x is the data values\n",
    "\n",
    "### Parameter of Histogram\n",
    "\n",
    "* color: Sets the color of bars.\n",
    "* bins: Sets the number of bins to be used.\n",
    "* density: Sets to True where bins display fraction and not the count."
   ]
  },
  {
   "cell_type": "code",
   "execution_count": null,
   "id": "7f802e86",
   "metadata": {},
   "outputs": [],
   "source": [
    "x=[1,2,3,4,5]\n",
    "\n",
    "fig=plt.figure(figsize=(20,4))\n",
    "ax=fig.add_subplot()\n",
    "\n",
    "ax.set(title='Histogram'\n",
    "      , xlabel='X-Axis'\n",
    "      , ylabel='Y-Axis')\n",
    "\n",
    "ax.hist(x\n",
    "       , color='red'\n",
    "       , bins=10\n",
    "       , density=True\n",
    "       , orientation='vertical')"
   ]
  },
  {
   "cell_type": "markdown",
   "id": "68d5f560",
   "metadata": {},
   "source": [
    "### Box Plot\n",
    "\n",
    "It is a type of chart that depicts a group of numerical data through their quartiles. It is a simple way to visualize the shape of our data. It makes comparing characteristics of data between categories very easy.\n",
    "\n",
    "* Box plots are also used to visualize the spread of data.\n",
    "* Box plots are used to compare distributions.\n",
    "* Box plots can also be used to detect outliers.\n",
    "* Syntax: boxplot(x)\n",
    "\n",
    "### Parameter of Box Plot\n",
    "\n",
    "* labels: Sets the labels for box plots.\n",
    "* notch: Sets to True if notches need to be created around the median.\n",
    "* bootstrap: Number set to indicate that notches around the median are bootstrapped.\n",
    "* vert: Sets to False for plotting Box plots horizontally."
   ]
  },
  {
   "cell_type": "code",
   "execution_count": null,
   "id": "e855fdfc",
   "metadata": {},
   "outputs": [],
   "source": [
    "x=[1,2,3,4,5]\n",
    "\n",
    "fig=plt.figure(figsize=(20,10))\n",
    "ax=fig.add_subplot()\n",
    "\n",
    "ax.set(title='Histogram'\n",
    "      , xlabel='X-Axis'\n",
    "      , ylabel='Y-Axis')\n",
    "\n",
    "ax.boxplot(x\n",
    "          , labels=['start']\n",
    "          , notch=False\n",
    "          , bootstrap=10000\n",
    "          , vert=True)"
   ]
  },
  {
   "cell_type": "code",
   "execution_count": null,
   "id": "2d2f5f2f",
   "metadata": {},
   "outputs": [],
   "source": [
    "np.random.seed(100)\n",
    "x = 50 + 10*np.random.randn(1000)\n",
    "y = 70 + 25*np.random.randn(1000)\n",
    "z = 30 + 5*np.random.randn(1000)\n",
    "fig = plt.figure(figsize=(8,6))\n",
    "ax = fig.add_subplot(111)\n",
    "ax.set(title=\"Box plot with outlier\",\n",
    "      xlabel='x-Axis', ylabel='Y-Axis')\n",
    "ax.boxplot([x, y, z]\n",
    "           , labels=['A', 'B', 'C']\n",
    "           , notch=True\n",
    "           , bootstrap=10000)\n",
    "plt.show()"
   ]
  },
  {
   "cell_type": "markdown",
   "id": "6f26089c",
   "metadata": {},
   "source": [
    "### Matplotlib Styles"
   ]
  },
  {
   "cell_type": "code",
   "execution_count": null,
   "id": "7f6946fa",
   "metadata": {},
   "outputs": [],
   "source": [
    "plt.style.available"
   ]
  },
  {
   "cell_type": "code",
   "execution_count": null,
   "id": "ab5554e2",
   "metadata": {},
   "outputs": [],
   "source": [
    "plt.style.use('ggplot')"
   ]
  },
  {
   "cell_type": "code",
   "execution_count": null,
   "id": "1e508864",
   "metadata": {},
   "outputs": [],
   "source": [
    "plt.style.context('ggplot')"
   ]
  },
  {
   "cell_type": "code",
   "execution_count": null,
   "id": "1c062df5",
   "metadata": {},
   "outputs": [],
   "source": [
    "x = [1, 5, 8, 12, 15, 19, 22, 26, 29]\n",
    "y = [29.3, 30.1, 30.4, 31.5, 32.3, 32.6, 31.8, 32.4, 32.7]\n",
    "\n",
    "with plt.style.context(['dark_background', 'ggplot']):\n",
    "    fig = plt.figure(figsize=(8,6))\n",
    "    ax = fig.add_subplot(111)\n",
    "    ax.set(title='ggplot'\n",
    "           , xlabel='X-Axis'\n",
    "           , ylabel='Y-Axis'\n",
    "           , xlim=(0, 30)\n",
    "           , ylim=(25, 35))    \n",
    "    ax.plot(x, y, color='green', linestyle='--', linewidth=3)\n",
    "    plt.show()"
   ]
  },
  {
   "cell_type": "code",
   "execution_count": null,
   "id": "3be8c42a",
   "metadata": {},
   "outputs": [],
   "source": [
    "sepal_len=[6.01,6.94,7.59]\n",
    "sepal_wd=[4.42,3.77,3.97]\n",
    "petal_len=[2.46,5.26,6.55]\n",
    "petal_wd=[1.24,2.33,3.03]\n",
    "species=['setosa','versicolor','virginica']\n",
    "species_index1=[0.8,1.8,2.8]\n",
    "species_index2=[1.0,2.0,3.0]\n",
    "species_index3=[1.2,2.2,3.2]\n",
    "species_index4=[1.4,2.4,3.4]\n",
    "\n",
    "with plt.style.context('ggplot'):\n",
    "    fig = plt.figure(figsize=(9,7))\n",
    "    ax = fig.add_subplot()\n",
    "    ax.bar(species_index1\n",
    "           , sepal_len\n",
    "           , width=0.2\n",
    "           , label='Sepal Width'\n",
    "          )\n",
    "    ax.bar(species_index2\n",
    "           , sepal_wd\n",
    "           , width=0.2\n",
    "           , label='Sepal Width'\n",
    "          )\n",
    "    ax.bar(species_index3\n",
    "           , petal_len\n",
    "           , width=0.2\n",
    "           , label='Petal Length'\n",
    "          )\n",
    "    ax.bar(species_index4\n",
    "           , petal_wd\n",
    "           , width=0.2\n",
    "           , label='Petal Width'\n",
    "          )\n",
    "    \n",
    "    ax.set(xlabel='Species'\n",
    "           , ylabel='Iris Measurements (cm)'\n",
    "           , title='Mean Measurements of Iris Species'\n",
    "           , xlim=(0.5,3.7)\n",
    "           , ylim=(0,10)\n",
    "           , xticks=species_index2\n",
    "           , xticklabels=species\n",
    "          )"
   ]
  },
  {
   "cell_type": "markdown",
   "id": "c48c947d",
   "metadata": {},
   "source": [
    "### Custom Style\n",
    "\n",
    "* A style sheet is a text file having extension .mplstyle.\n",
    "* All custom style sheets are placed in a folder, stylelib, present in the config directory of matplotlib.\n",
    "* Create a file mystyle.mplstyle with the below-shown contents and save it in the folder <matplotlib_configdir/stylelib/.\n",
    "* Reload the matplotlib library with the subsequent expression.\n",
    "* Use the below expression for knowing the Config folder."
   ]
  },
  {
   "cell_type": "code",
   "execution_count": null,
   "id": "f40f9265",
   "metadata": {},
   "outputs": [],
   "source": [
    "#Reload the matplotlib library with the subsequent expression.\n",
    "print(matplotlib.get_configdir())"
   ]
  },
  {
   "cell_type": "markdown",
   "id": "627e44c0",
   "metadata": {},
   "source": [
    "### Create a file mystyle.mplstyle with the below-shown contents and save it in the folder <matplotlib_configdir/stylelib/.\n",
    "\n",
    "* axes.titlesize : 24\n",
    "* axes.labelsize : 20\n",
    "* lines.linewidth : 8\n",
    "* lines.markersize : 10\n",
    "* xtick.labelsize : 16\n",
    "* ytick.labelsize : 16\n",
    "\n",
    "Reload the matplotlib library with the subsequent expression.\n",
    "```matplotlib.style.reload_library()```"
   ]
  },
  {
   "cell_type": "code",
   "execution_count": null,
   "id": "6cecbb4a",
   "metadata": {},
   "outputs": [],
   "source": [
    "print(plt.style.available)"
   ]
  },
  {
   "cell_type": "markdown",
   "id": "1f263c3b",
   "metadata": {},
   "source": [
    "### matplotlibrc file ###\n",
    "\n",
    "* matplotlib uses all the settings specified in matplotlibrc file.\n",
    "* These settings are known as rc settings or rc parameters.\n",
    "* For customization, rc settings can be altered in the file or interactively.\n",
    "* The location of active matplotlibrc file used by matplotlib can be found with below expression."
   ]
  },
  {
   "cell_type": "code",
   "execution_count": null,
   "id": "8fcb54cc",
   "metadata": {},
   "outputs": [],
   "source": [
    "import matplotlib\n",
    "matplotlib.matplotlib_fname()"
   ]
  },
  {
   "cell_type": "markdown",
   "id": "cf46d42d",
   "metadata": {},
   "source": [
    "### Matplotlib rcParams\n",
    "\n",
    "* All rc settings, present in matplotlibrc file are stored in a dictionary named matplotlib.rcParams.\n",
    "* Any settings can be changed by editing values of this dictionary."
   ]
  },
  {
   "cell_type": "code",
   "execution_count": null,
   "id": "9180f522",
   "metadata": {},
   "outputs": [],
   "source": [
    "import matplotlib as mpl\n",
    "mpl.rcParams['lines.linewidth'] = 2\n",
    "mpl.rcParams['lines.color'] = 'r'"
   ]
  },
  {
   "cell_type": "code",
   "execution_count": null,
   "id": "e8eb39c1",
   "metadata": {},
   "outputs": [],
   "source": [
    "plt.style.available"
   ]
  },
  {
   "cell_type": "markdown",
   "id": "48fb6b1e",
   "metadata": {},
   "source": [
    "### Subplots\n",
    "\n",
    "It provides a way to plot multiple plots on a single figure. Given the number of rows and columns, it returns a tuple (fig, ax), giving a single figure fig with an array of axes ax.\n",
    "\n",
    "* subplot creates the Axes object at index position and returns it.\n",
    "\n",
    "```python\n",
    "# 'index' is the position in a virtual grid with 'nrows' and 'ncols'\n",
    "# 'index' number varies from 1 to `nrows*ncols`.\n",
    "subplot(nrows, ncols, index)\n",
    "```"
   ]
  },
  {
   "cell_type": "code",
   "execution_count": null,
   "id": "8a4e82ac",
   "metadata": {},
   "outputs": [],
   "source": [
    "fig = plt.figure(figsize=(10,8))\n",
    "ax1 = plt.subplot(2, 2, 1, title='Plot1')\n",
    "ax2 = plt.subplot(2, 2, 2, title='Plot2')\n",
    "ax3 = plt.subplot(2, 2, 3, title='Plot3')\n",
    "ax4 = plt.subplot(2, 2, 4, title='Plot4')\n",
    "plt.show()"
   ]
  },
  {
   "cell_type": "code",
   "execution_count": null,
   "id": "3e95fd75",
   "metadata": {},
   "outputs": [],
   "source": [
    "fig = plt.figure(figsize=(10,8))\n",
    "\n",
    "ax1 = plt.subplot(2, 2, (1,2), title='Plot1')\n",
    "ax1.set_xticks([])\n",
    "ax1.set_yticks([])\n",
    "\n",
    "ax2 = plt.subplot(2, 2, 3, title='Plot2')\n",
    "ax2.set_xticks([])\n",
    "ax2.set_yticks([])\n",
    "\n",
    "ax3 = plt.subplot(2, 2, 4, title='Plot3')\n",
    "ax3.set_xticks([])\n",
    "ax3.set_yticks([])\n",
    "plt.show()"
   ]
  },
  {
   "cell_type": "markdown",
   "id": "7fae5ce8",
   "metadata": {},
   "source": [
    "### Subplots Using 'GridSpec'\n",
    "\n",
    "* GridSpec class of matplotlib.gridspec can also be used to create Subplots.\n",
    "* Initially, a grid with given number of rows and columns is set up.\n",
    "* Later while creating a subplot, the number of rows and columns of grid, spanned by the subplot are provided as inputs to subplot function."
   ]
  },
  {
   "cell_type": "code",
   "execution_count": null,
   "id": "f0b1e66d",
   "metadata": {},
   "outputs": [],
   "source": [
    "import matplotlib.gridspec as gridspec\n",
    "\n",
    "fig = plt.figure(figsize=(10,8))\n",
    "gd = gridspec.GridSpec(2,2)\n",
    "\n",
    "ax1 = plt.subplot(gd[0,:],title='Plot1')\n",
    "\n",
    "ax2 = plt.subplot(gd[1,0])\n",
    "\n",
    "ax3 = plt.subplot(gd[1,-1])\n",
    "\n",
    "plt.show()"
   ]
  },
  {
   "cell_type": "code",
   "execution_count": null,
   "id": "0552ec3c",
   "metadata": {},
   "outputs": [],
   "source": [
    "fig = plt.figure(figsize=(10,8))\n",
    "gd = gridspec.GridSpec(3,2)\n",
    "\n",
    "ax1 = plt.subplot(gd[0,:],title='Plot1')\n",
    "ax1.set_xticks([])\n",
    "ax1.set_yticks([])\n",
    "\n",
    "ax2 = plt.subplot(gd[1,0],title='Plot1')\n",
    "ax2.set_xticks([])\n",
    "ax2.set_yticks([])\n",
    "\n",
    "ax3 = plt.subplot(gd[2,0],title='Plot1')\n",
    "ax3.set_xticks([])\n",
    "ax3.set_yticks([])\n",
    "\n",
    "ax4 = plt.subplot(gd[1:,1],title='Plot1')\n",
    "ax4.set_xticks([])\n",
    "ax4.set_yticks([])\n",
    "\n",
    "plt.show()"
   ]
  },
  {
   "cell_type": "code",
   "execution_count": null,
   "id": "664e7551",
   "metadata": {},
   "outputs": [],
   "source": [
    "np.random.seed(1500)\n",
    "x=np.random.rand(10)\n",
    "y=np.random.rand(10)\n",
    "z=np.sqrt(x**2+y**2)\n",
    "\n",
    "fig=plt.figure(figsize=(9,7))\n",
    "fig.suptitle('Main title for all subplot')\n",
    "\n",
    "axes1=plt.subplot(2,2,1,title='Scatter plot with Diamond Markers')\n",
    "axes1.scatter(x\n",
    "              , y\n",
    "              , s=80\n",
    "              , c=z\n",
    "              , marker='d'\n",
    "             )\n",
    "axes1.set(xticks=(0.0,0.5,1.0,1.5)\n",
    "          , yticks=(-0.2,0.2,0.6,1.0)\n",
    "         )\n",
    "\n",
    "axes2=plt.subplot(2,2,2,title='Scatter plot with Circle Markers')\n",
    "axes2.scatter(x\n",
    "              , y\n",
    "              , s=80\n",
    "              , c=z\n",
    "              , marker='o'\n",
    "             )\n",
    "axes2.set(xticks=(0.0,0.5,1.0,1.5)\n",
    "          , yticks=(-0.2,0.2,0.6,1.0)\n",
    "         )\n",
    "\n",
    "axes3=plt.subplot(2,2,3,title='Scatter plot with Plus Markers')\n",
    "axes3.scatter(x\n",
    "              , y\n",
    "              , s=80\n",
    "              , c=z\n",
    "              , marker='*'\n",
    "             )\n",
    "axes3.set(xticks=(0.0,0.5,1.0,1.5)\n",
    "          , yticks=(-0.2,0.2,0.6,1.0)\n",
    "         )\n",
    "\n",
    "axes4=plt.subplot(2,2,4,title='Scatter plot with Upper Triangle')\n",
    "axes4.scatter(x\n",
    "              , y\n",
    "              , s=80\n",
    "              , c=z\n",
    "              , marker='^'\n",
    "             )\n",
    "axes4.set(xticks=(0.0,0.5,1.0,1.5)\n",
    "          , yticks=(-0.2,0.2,0.6,1.0)\n",
    "         )\n",
    "\n",
    "plt.tight_layout()"
   ]
  },
  {
   "cell_type": "code",
   "execution_count": null,
   "id": "97bed38e",
   "metadata": {},
   "outputs": [],
   "source": [
    "fig = plt.figure()\n",
    "gs = gridspec.GridSpec(3, 3)\n",
    "ax1 = plt.subplot(gs[:2, :2])\n",
    "ax2 = plt.subplot(gs[0, 2])\n",
    "ax3 = plt.subplot(gs[1, 2])\n",
    "ax4 = plt.subplot(gs[-1, 0])\n",
    "ax5 = plt.subplot(gs[-1, 1:])\n",
    "plt.show()"
   ]
  },
  {
   "cell_type": "code",
   "execution_count": null,
   "id": "50808924",
   "metadata": {},
   "outputs": [],
   "source": [
    "import matplotlib.gridspec as gridspec\n",
    "fig = plt.figure()\n",
    "gs = gridspec.GridSpec(3, 3)\n",
    "ax1 = plt.subplot(gs[0, :])\n",
    "ax2 = plt.subplot(gs[1, :-1])\n",
    "ax3 = plt.subplot(gs[1:, -1])\n",
    "ax4 = plt.subplot(gs[-1, 0])\n",
    "ax5 = plt.subplot(gs[-1, -2])\n",
    "plt.show()"
   ]
  },
  {
   "cell_type": "markdown",
   "id": "8be2dc30",
   "metadata": {},
   "source": [
    "### Common Pitfalls in Data Visualization\n",
    "\n",
    "Common pitfalls to be avoided for a better Data Visualization are:\n",
    "\n",
    "* Creating unlabelled plots.\n",
    "* Using 3-Dimensional charts. Don't prefer 3-D plots, unless they add any value over 2-D charts.\n",
    "* Portions of a pie plot do not sum up to meaningful number.\n",
    "* Showing too many portions in a single pie chart.\n",
    "* Bar charts not starting at zero.\n",
    "* Failing to normalize the data.\n",
    "* Adding extra labels, and fancy images."
   ]
  },
  {
   "cell_type": "markdown",
   "id": "1afae116",
   "metadata": {},
   "source": [
    "### Best Practices of Data Visualization\n",
    "\n",
    "Few of the best practices of Data Visualization are:\n",
    "\n",
    "* Display the data points on the plot, whenever required.\n",
    "* Whenever correlation is plotted, clarify that you have not established any cause of link between the variables.\n",
    "* Prefer labeling data objects directly inside the plot, rather than using legends.\n",
    "* Create a visualization, which stands by itself. Avoid adding extra text to tell more about visualization."
   ]
  },
  {
   "cell_type": "code",
   "execution_count": null,
   "id": "8104053e",
   "metadata": {},
   "outputs": [],
   "source": [
    "fig=plt.figure()\n",
    "a=fig.add_subplot()\n",
    "a.plot(x, y, 'g^')"
   ]
  },
  {
   "cell_type": "code",
   "execution_count": null,
   "id": "09788ee7",
   "metadata": {},
   "outputs": [],
   "source": []
  }
 ],
 "metadata": {
  "kernelspec": {
   "display_name": "Python 3 (ipykernel)",
   "language": "python",
   "name": "python3"
  },
  "language_info": {
   "codemirror_mode": {
    "name": "ipython",
    "version": 3
   },
   "file_extension": ".py",
   "mimetype": "text/x-python",
   "name": "python",
   "nbconvert_exporter": "python",
   "pygments_lexer": "ipython3",
   "version": "3.11.3"
  }
 },
 "nbformat": 4,
 "nbformat_minor": 5
}
